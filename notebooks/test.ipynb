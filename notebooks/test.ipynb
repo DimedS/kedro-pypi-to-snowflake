{
 "cells": [
  {
   "cell_type": "code",
   "execution_count": 5,
   "id": "b580b4c7-6643-4441-8881-09ca3a119d3c",
   "metadata": {},
   "outputs": [
    {
     "name": "stdout",
     "output_type": "stream",
     "text": [
      "Memory usage: 150.77229022979736 bytes\n"
     ]
    }
   ],
   "source": [
    "memory_usage_Mbytes = pandas_df.memory_usage(deep=True).sum() / (1024 ** 2)\n",
    "print(f\"Memory usage: {memory_usage_Mbytes} bytes\")"
   ]
  },
  {
   "cell_type": "code",
   "execution_count": 8,
   "id": "d5b85761-e1f8-429a-b28f-32776b73593c",
   "metadata": {},
   "outputs": [
    {
     "name": "stdout",
     "output_type": "stream",
     "text": [
      "('countries',)\n",
      "('countries_dict',)\n",
      "('last_updated_dict',)\n",
      "('projects',)\n",
      "('pypi',)\n",
      "('pypi_downloads',)\n",
      "('pypi_downloads_by_version',)\n",
      "('pypi_downloads_by_version_mv',)\n",
      "('pypi_downloads_max_min',)\n",
      "('pypi_downloads_max_min_mv',)\n",
      "('pypi_downloads_mv',)\n",
      "('pypi_downloads_per_day',)\n",
      "('pypi_downloads_per_day_by_version',)\n",
      "('pypi_downloads_per_day_by_version_by_country',)\n",
      "('pypi_downloads_per_day_by_version_by_country_mv',)\n",
      "('pypi_downloads_per_day_by_version_by_file_type',)\n",
      "('pypi_downloads_per_day_by_version_by_file_type_mv',)\n",
      "('pypi_downloads_per_day_by_version_by_installer_by_type',)\n",
      "('pypi_downloads_per_day_by_version_by_installer_by_type_by_country',)\n",
      "('pypi_downloads_per_day_by_version_by_installer_by_type_by_country_mv',)\n",
      "('pypi_downloads_per_day_by_version_by_installer_by_type_mv',)\n",
      "('pypi_downloads_per_day_by_version_by_python',)\n",
      "('pypi_downloads_per_day_by_version_by_python_by_country',)\n",
      "('pypi_downloads_per_day_by_version_by_python_by_country_mv',)\n",
      "('pypi_downloads_per_day_by_version_by_python_mv',)\n",
      "('pypi_downloads_per_day_by_version_by_system',)\n",
      "('pypi_downloads_per_day_by_version_by_system_by_country',)\n",
      "('pypi_downloads_per_day_by_version_by_system_by_country_mv',)\n",
      "('pypi_downloads_per_day_by_version_by_system_mv',)\n",
      "('pypi_downloads_per_day_by_version_mv',)\n",
      "('pypi_downloads_per_day_mv',)\n",
      "('pypi_downloads_per_month',)\n",
      "('pypi_downloads_per_month_mv',)\n"
     ]
    }
   ],
   "source": [
    "import clickhouse_connect\n",
    "\n",
    "# Create a ClickHouse client\n",
    "client = clickhouse_connect.get_client(\n",
    "    host=\"clickpy-clickhouse.clickhouse.com\",  # ClickPy host\n",
    "    username=\"play\",                           # Public user\n",
    "    port=443,\n",
    "    database=\"pypi\",                           # Targeting the 'pypi' database\n",
    "    secure=True\n",
    ")\n",
    "\n",
    "\n",
    "tables = client.query(\"SHOW TABLES IN pypi\")\n",
    "\n",
    "# Print the list of tables\n",
    "for table in tables.result_rows:\n",
    "    print(table)"
   ]
  }
 ],
 "metadata": {
  "kernelspec": {
   "display_name": "Kedro (kedro_pypi_to_snowflake)",
   "language": "python",
   "name": "kedro_kedro_pypi_to_snowflake"
  },
  "language_info": {
   "codemirror_mode": {
    "name": "ipython",
    "version": 3
   },
   "file_extension": ".py",
   "mimetype": "text/x-python",
   "name": "python",
   "nbconvert_exporter": "python",
   "pygments_lexer": "ipython3",
   "version": "3.10.13"
  }
 },
 "nbformat": 4,
 "nbformat_minor": 5
}
