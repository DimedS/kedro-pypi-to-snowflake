{
 "cells": [
  {
   "cell_type": "code",
   "execution_count": 6,
   "id": "fa3ced71-5239-4c8a-b346-04a9a853101f",
   "metadata": {},
   "outputs": [
    {
     "data": {
      "text/html": [
       "<pre style=\"white-space:pre;overflow-x:auto;line-height:normal;font-family:Menlo,'DejaVu Sans Mono',consolas,'Courier New',monospace\"></pre>\n"
      ],
      "text/plain": []
     },
     "metadata": {},
     "output_type": "display_data"
    },
    {
     "data": {
      "text/plain": [
       "\u001b[1m[\u001b[0m\u001b[32m'kedro_all_total_downloads'\u001b[0m, \u001b[32m'parameters'\u001b[0m\u001b[1m]\u001b[0m"
      ]
     },
     "execution_count": 6,
     "metadata": {},
     "output_type": "execute_result"
    }
   ],
   "source": [
    "catalog.list()"
   ]
  },
  {
   "cell_type": "code",
   "execution_count": 6,
   "id": "1ec15e96-41d8-429a-8af9-06a6faba2e8b",
   "metadata": {},
   "outputs": [
    {
     "data": {
      "text/html": [
       "<pre style=\"white-space:pre;overflow-x:auto;line-height:normal;font-family:Menlo,'DejaVu Sans Mono',consolas,'Courier New',monospace\"><span style=\"color: #7fbfbf; text-decoration-color: #7fbfbf\">[09/25/24 14:29:15] </span><span style=\"color: #000080; text-decoration-color: #000080\">INFO    </span> Resolved project path as:                                              <a href=\"file:///Users/Dmitry_Sorokin/Git/Projects/.venv/lib/python3.10/site-packages/kedro/ipython/__init__.py\" target=\"_blank\"><span style=\"color: #7f7f7f; text-decoration-color: #7f7f7f\">__init__.py</span></a><span style=\"color: #7f7f7f; text-decoration-color: #7f7f7f\">:</span><a href=\"file:///Users/Dmitry_Sorokin/Git/Projects/.venv/lib/python3.10/site-packages/kedro/ipython/__init__.py#175\" target=\"_blank\"><span style=\"color: #7f7f7f; text-decoration-color: #7f7f7f\">175</span></a>\n",
       "<span style=\"color: #7fbfbf; text-decoration-color: #7fbfbf\">                    </span>         <span style=\"color: #800080; text-decoration-color: #800080\">/Users/Dmitry_Sorokin/Git/Projects/</span><span style=\"color: #ff00ff; text-decoration-color: #ff00ff\">kedro-pypi-to-snowflake.</span>            <span style=\"color: #7f7f7f; text-decoration-color: #7f7f7f\">               </span>\n",
       "<span style=\"color: #7fbfbf; text-decoration-color: #7fbfbf\">                    </span>         To set a different path, run <span style=\"color: #008000; text-decoration-color: #008000\">'%reload_kedro &lt;project_root&gt;'</span>            <span style=\"color: #7f7f7f; text-decoration-color: #7f7f7f\">               </span>\n",
       "</pre>\n"
      ],
      "text/plain": [
       "\u001b[2;36m[09/25/24 14:29:15]\u001b[0m\u001b[2;36m \u001b[0m\u001b[34mINFO    \u001b[0m Resolved project path as:                                              \u001b]8;id=183672;file:///Users/Dmitry_Sorokin/Git/Projects/.venv/lib/python3.10/site-packages/kedro/ipython/__init__.py\u001b\\\u001b[2m__init__.py\u001b[0m\u001b]8;;\u001b\\\u001b[2m:\u001b[0m\u001b]8;id=958903;file:///Users/Dmitry_Sorokin/Git/Projects/.venv/lib/python3.10/site-packages/kedro/ipython/__init__.py#175\u001b\\\u001b[2m175\u001b[0m\u001b]8;;\u001b\\\n",
       "\u001b[2;36m                    \u001b[0m         \u001b[35m/Users/Dmitry_Sorokin/Git/Projects/\u001b[0m\u001b[95mkedro-pypi-to-snowflake.\u001b[0m            \u001b[2m               \u001b[0m\n",
       "\u001b[2;36m                    \u001b[0m         To set a different path, run \u001b[32m'%reload_kedro \u001b[0m\u001b[32m<\u001b[0m\u001b[32mproject_root\u001b[0m\u001b[32m>\u001b[0m\u001b[32m'\u001b[0m            \u001b[2m               \u001b[0m\n"
      ]
     },
     "metadata": {},
     "output_type": "display_data"
    },
    {
     "data": {
      "text/html": [
       "<pre style=\"white-space:pre;overflow-x:auto;line-height:normal;font-family:Menlo,'DejaVu Sans Mono',consolas,'Courier New',monospace\"><span style=\"color: #7fbfbf; text-decoration-color: #7fbfbf\">                    </span><span style=\"color: #000080; text-decoration-color: #000080\">INFO    </span> Kedro is sending anonymous usage data with the sole purpose of improving <a href=\"file:///Users/Dmitry_Sorokin/Git/Projects/.venv/lib/python3.10/site-packages/kedro_telemetry/plugin.py\" target=\"_blank\"><span style=\"color: #7f7f7f; text-decoration-color: #7f7f7f\">plugin.py</span></a><span style=\"color: #7f7f7f; text-decoration-color: #7f7f7f\">:</span><a href=\"file:///Users/Dmitry_Sorokin/Git/Projects/.venv/lib/python3.10/site-packages/kedro_telemetry/plugin.py#233\" target=\"_blank\"><span style=\"color: #7f7f7f; text-decoration-color: #7f7f7f\">233</span></a>\n",
       "<span style=\"color: #7fbfbf; text-decoration-color: #7fbfbf\">                    </span>         the product. No personal data or IP addresses are stored on our side. If <span style=\"color: #7f7f7f; text-decoration-color: #7f7f7f\">             </span>\n",
       "<span style=\"color: #7fbfbf; text-decoration-color: #7fbfbf\">                    </span>         you want to opt out, set the `KEDRO_DISABLE_TELEMETRY` or `DO_NOT_TRACK` <span style=\"color: #7f7f7f; text-decoration-color: #7f7f7f\">             </span>\n",
       "<span style=\"color: #7fbfbf; text-decoration-color: #7fbfbf\">                    </span>         environment variables, or create a `.telemetry` file in the current      <span style=\"color: #7f7f7f; text-decoration-color: #7f7f7f\">             </span>\n",
       "<span style=\"color: #7fbfbf; text-decoration-color: #7fbfbf\">                    </span>         working directory with the contents `consent: false`. Read more at       <span style=\"color: #7f7f7f; text-decoration-color: #7f7f7f\">             </span>\n",
       "<span style=\"color: #7fbfbf; text-decoration-color: #7fbfbf\">                    </span>         <span style=\"color: #0000ff; text-decoration-color: #0000ff; text-decoration: underline\">https://docs.kedro.org/en/stable/configuration/telemetry.html</span>            <span style=\"color: #7f7f7f; text-decoration-color: #7f7f7f\">             </span>\n",
       "</pre>\n"
      ],
      "text/plain": [
       "\u001b[2;36m                   \u001b[0m\u001b[2;36m \u001b[0m\u001b[34mINFO    \u001b[0m Kedro is sending anonymous usage data with the sole purpose of improving \u001b]8;id=838942;file:///Users/Dmitry_Sorokin/Git/Projects/.venv/lib/python3.10/site-packages/kedro_telemetry/plugin.py\u001b\\\u001b[2mplugin.py\u001b[0m\u001b]8;;\u001b\\\u001b[2m:\u001b[0m\u001b]8;id=500374;file:///Users/Dmitry_Sorokin/Git/Projects/.venv/lib/python3.10/site-packages/kedro_telemetry/plugin.py#233\u001b\\\u001b[2m233\u001b[0m\u001b]8;;\u001b\\\n",
       "\u001b[2;36m                    \u001b[0m         the product. No personal data or IP addresses are stored on our side. If \u001b[2m             \u001b[0m\n",
       "\u001b[2;36m                    \u001b[0m         you want to opt out, set the `KEDRO_DISABLE_TELEMETRY` or `DO_NOT_TRACK` \u001b[2m             \u001b[0m\n",
       "\u001b[2;36m                    \u001b[0m         environment variables, or create a `.telemetry` file in the current      \u001b[2m             \u001b[0m\n",
       "\u001b[2;36m                    \u001b[0m         working directory with the contents `consent: false`. Read more at       \u001b[2m             \u001b[0m\n",
       "\u001b[2;36m                    \u001b[0m         \u001b[4;94mhttps://docs.kedro.org/en/stable/configuration/telemetry.html\u001b[0m            \u001b[2m             \u001b[0m\n"
      ]
     },
     "metadata": {},
     "output_type": "display_data"
    },
    {
     "data": {
      "text/html": [
       "<pre style=\"white-space:pre;overflow-x:auto;line-height:normal;font-family:Menlo,'DejaVu Sans Mono',consolas,'Courier New',monospace\"><span style=\"color: #7fbfbf; text-decoration-color: #7fbfbf\">                    </span><span style=\"color: #000080; text-decoration-color: #000080\">INFO    </span> Kedro project kedro-pypi-to-snowflake                                  <a href=\"file:///Users/Dmitry_Sorokin/Git/Projects/.venv/lib/python3.10/site-packages/kedro/ipython/__init__.py\" target=\"_blank\"><span style=\"color: #7f7f7f; text-decoration-color: #7f7f7f\">__init__.py</span></a><span style=\"color: #7f7f7f; text-decoration-color: #7f7f7f\">:</span><a href=\"file:///Users/Dmitry_Sorokin/Git/Projects/.venv/lib/python3.10/site-packages/kedro/ipython/__init__.py#141\" target=\"_blank\"><span style=\"color: #7f7f7f; text-decoration-color: #7f7f7f\">141</span></a>\n",
       "</pre>\n"
      ],
      "text/plain": [
       "\u001b[2;36m                   \u001b[0m\u001b[2;36m \u001b[0m\u001b[34mINFO    \u001b[0m Kedro project kedro-pypi-to-snowflake                                  \u001b]8;id=209867;file:///Users/Dmitry_Sorokin/Git/Projects/.venv/lib/python3.10/site-packages/kedro/ipython/__init__.py\u001b\\\u001b[2m__init__.py\u001b[0m\u001b]8;;\u001b\\\u001b[2m:\u001b[0m\u001b]8;id=513250;file:///Users/Dmitry_Sorokin/Git/Projects/.venv/lib/python3.10/site-packages/kedro/ipython/__init__.py#141\u001b\\\u001b[2m141\u001b[0m\u001b]8;;\u001b\\\n"
      ]
     },
     "metadata": {},
     "output_type": "display_data"
    },
    {
     "data": {
      "text/html": [
       "<pre style=\"white-space:pre;overflow-x:auto;line-height:normal;font-family:Menlo,'DejaVu Sans Mono',consolas,'Courier New',monospace\"><span style=\"color: #7fbfbf; text-decoration-color: #7fbfbf\">                    </span><span style=\"color: #000080; text-decoration-color: #000080\">INFO    </span> Defined global variable <span style=\"color: #008000; text-decoration-color: #008000\">'context'</span>, <span style=\"color: #008000; text-decoration-color: #008000\">'session'</span>, <span style=\"color: #008000; text-decoration-color: #008000\">'catalog'</span> and            <a href=\"file:///Users/Dmitry_Sorokin/Git/Projects/.venv/lib/python3.10/site-packages/kedro/ipython/__init__.py\" target=\"_blank\"><span style=\"color: #7f7f7f; text-decoration-color: #7f7f7f\">__init__.py</span></a><span style=\"color: #7f7f7f; text-decoration-color: #7f7f7f\">:</span><a href=\"file:///Users/Dmitry_Sorokin/Git/Projects/.venv/lib/python3.10/site-packages/kedro/ipython/__init__.py#142\" target=\"_blank\"><span style=\"color: #7f7f7f; text-decoration-color: #7f7f7f\">142</span></a>\n",
       "<span style=\"color: #7fbfbf; text-decoration-color: #7fbfbf\">                    </span>         <span style=\"color: #008000; text-decoration-color: #008000\">'pipelines'</span>                                                            <span style=\"color: #7f7f7f; text-decoration-color: #7f7f7f\">               </span>\n",
       "</pre>\n"
      ],
      "text/plain": [
       "\u001b[2;36m                   \u001b[0m\u001b[2;36m \u001b[0m\u001b[34mINFO    \u001b[0m Defined global variable \u001b[32m'context'\u001b[0m, \u001b[32m'session'\u001b[0m, \u001b[32m'catalog'\u001b[0m and            \u001b]8;id=942714;file:///Users/Dmitry_Sorokin/Git/Projects/.venv/lib/python3.10/site-packages/kedro/ipython/__init__.py\u001b\\\u001b[2m__init__.py\u001b[0m\u001b]8;;\u001b\\\u001b[2m:\u001b[0m\u001b]8;id=682534;file:///Users/Dmitry_Sorokin/Git/Projects/.venv/lib/python3.10/site-packages/kedro/ipython/__init__.py#142\u001b\\\u001b[2m142\u001b[0m\u001b]8;;\u001b\\\n",
       "\u001b[2;36m                    \u001b[0m         \u001b[32m'pipelines'\u001b[0m                                                            \u001b[2m               \u001b[0m\n"
      ]
     },
     "metadata": {},
     "output_type": "display_data"
    },
    {
     "data": {
      "text/html": [
       "<pre style=\"white-space:pre;overflow-x:auto;line-height:normal;font-family:Menlo,'DejaVu Sans Mono',consolas,'Courier New',monospace\"><span style=\"color: #7fbfbf; text-decoration-color: #7fbfbf\">[09/25/24 14:29:16] </span><span style=\"color: #000080; text-decoration-color: #000080\">INFO    </span> Registered line magic <span style=\"color: #008000; text-decoration-color: #008000\">'run_viz'</span>                                        <a href=\"file:///Users/Dmitry_Sorokin/Git/Projects/.venv/lib/python3.10/site-packages/kedro/ipython/__init__.py\" target=\"_blank\"><span style=\"color: #7f7f7f; text-decoration-color: #7f7f7f\">__init__.py</span></a><span style=\"color: #7f7f7f; text-decoration-color: #7f7f7f\">:</span><a href=\"file:///Users/Dmitry_Sorokin/Git/Projects/.venv/lib/python3.10/site-packages/kedro/ipython/__init__.py#148\" target=\"_blank\"><span style=\"color: #7f7f7f; text-decoration-color: #7f7f7f\">148</span></a>\n",
       "</pre>\n"
      ],
      "text/plain": [
       "\u001b[2;36m[09/25/24 14:29:16]\u001b[0m\u001b[2;36m \u001b[0m\u001b[34mINFO    \u001b[0m Registered line magic \u001b[32m'run_viz'\u001b[0m                                        \u001b]8;id=556888;file:///Users/Dmitry_Sorokin/Git/Projects/.venv/lib/python3.10/site-packages/kedro/ipython/__init__.py\u001b\\\u001b[2m__init__.py\u001b[0m\u001b]8;;\u001b\\\u001b[2m:\u001b[0m\u001b]8;id=375233;file:///Users/Dmitry_Sorokin/Git/Projects/.venv/lib/python3.10/site-packages/kedro/ipython/__init__.py#148\u001b\\\u001b[2m148\u001b[0m\u001b]8;;\u001b\\\n"
      ]
     },
     "metadata": {},
     "output_type": "display_data"
    }
   ],
   "source": [
    " %reload_kedro"
   ]
  },
  {
   "cell_type": "code",
   "execution_count": 4,
   "id": "7964ed04-41db-496a-bf88-e0e88df28551",
   "metadata": {},
   "outputs": [
    {
     "data": {
      "text/html": [
       "<pre style=\"white-space:pre;overflow-x:auto;line-height:normal;font-family:Menlo,'DejaVu Sans Mono',consolas,'Courier New',monospace\"></pre>\n"
      ],
      "text/plain": []
     },
     "metadata": {},
     "output_type": "display_data"
    },
    {
     "data": {
      "text/plain": [
       "\u001b[1m{\u001b[0m\u001b[32m'__default__'\u001b[0m: \u001b[1;35mPipeline\u001b[0m\u001b[1m(\u001b[0m\u001b[1m[\u001b[0m\u001b[1m]\u001b[0m\u001b[1m)\u001b[0m\u001b[1m}\u001b[0m"
      ]
     },
     "execution_count": 4,
     "metadata": {},
     "output_type": "execute_result"
    }
   ],
   "source": [
    "pipelines"
   ]
  },
  {
   "cell_type": "code",
   "execution_count": 1,
   "id": "c8b85283-6690-49d0-a4f5-4cc03d4fdfd3",
   "metadata": {},
   "outputs": [
    {
     "data": {
      "text/html": [
       "<pre style=\"white-space:pre;overflow-x:auto;line-height:normal;font-family:Menlo,'DejaVu Sans Mono',consolas,'Courier New',monospace\"><span style=\"color: #7fbfbf; text-decoration-color: #7fbfbf\">                    </span><span style=\"color: #000080; text-decoration-color: #000080\">INFO    </span> Loading data from <span style=\"color: #ff8700; text-decoration-color: #ff8700\">kedro_all_total_downloads</span> <span style=\"font-weight: bold\">(</span>ClickHouseDataset<span style=\"font-weight: bold\">)</span><span style=\"color: #808000; text-decoration-color: #808000\">...</span> <a href=\"file:///Users/Dmitry_Sorokin/Git/Projects/.venv/lib/python3.10/site-packages/kedro/io/data_catalog.py\" target=\"_blank\"><span style=\"color: #7f7f7f; text-decoration-color: #7f7f7f\">data_catalog.py</span></a><span style=\"color: #7f7f7f; text-decoration-color: #7f7f7f\">:</span><a href=\"file:///Users/Dmitry_Sorokin/Git/Projects/.venv/lib/python3.10/site-packages/kedro/io/data_catalog.py#539\" target=\"_blank\"><span style=\"color: #7f7f7f; text-decoration-color: #7f7f7f\">539</span></a>\n",
       "</pre>\n"
      ],
      "text/plain": [
       "\u001b[2;36m                   \u001b[0m\u001b[2;36m \u001b[0m\u001b[34mINFO    \u001b[0m Loading data from \u001b[38;5;208mkedro_all_total_downloads\u001b[0m \u001b[1m(\u001b[0mClickHouseDataset\u001b[1m)\u001b[0m\u001b[33m...\u001b[0m \u001b]8;id=57480;file:///Users/Dmitry_Sorokin/Git/Projects/.venv/lib/python3.10/site-packages/kedro/io/data_catalog.py\u001b\\\u001b[2mdata_catalog.py\u001b[0m\u001b]8;;\u001b\\\u001b[2m:\u001b[0m\u001b]8;id=233042;file:///Users/Dmitry_Sorokin/Git/Projects/.venv/lib/python3.10/site-packages/kedro/io/data_catalog.py#539\u001b\\\u001b[2m539\u001b[0m\u001b]8;;\u001b\\\n"
      ]
     },
     "metadata": {},
     "output_type": "display_data"
    }
   ],
   "source": [
    "a = catalog.load(\"kedro_all_total_downloads\")"
   ]
  },
  {
   "cell_type": "code",
   "execution_count": 2,
   "id": "9779b3cb-d6da-49f3-b739-80f31b2a8ea0",
   "metadata": {},
   "outputs": [],
   "source": [
    "pandas_df = a.to_pandas()"
   ]
  },
  {
   "cell_type": "code",
   "execution_count": 5,
   "id": "b580b4c7-6643-4441-8881-09ca3a119d3c",
   "metadata": {},
   "outputs": [
    {
     "name": "stdout",
     "output_type": "stream",
     "text": [
      "Memory usage: 150.77229022979736 bytes\n"
     ]
    }
   ],
   "source": [
    "memory_usage_Mbytes = pandas_df.memory_usage(deep=True).sum() / (1024 ** 2)\n",
    "print(f\"Memory usage: {memory_usage_Mbytes} bytes\")"
   ]
  },
  {
   "cell_type": "code",
   "execution_count": 3,
   "id": "15ffd562-5028-460c-9fc0-8b5166db18e8",
   "metadata": {},
   "outputs": [
    {
     "data": {
      "text/html": [
       "<pre style=\"white-space:pre;overflow-x:auto;line-height:normal;font-family:Menlo,'DejaVu Sans Mono',consolas,'Courier New',monospace\"></pre>\n"
      ],
      "text/plain": []
     },
     "metadata": {},
     "output_type": "display_data"
    },
    {
     "data": {
      "text/html": [
       "<div>\n",
       "<style scoped>\n",
       "    .dataframe tbody tr th:only-of-type {\n",
       "        vertical-align: middle;\n",
       "    }\n",
       "\n",
       "    .dataframe tbody tr th {\n",
       "        vertical-align: top;\n",
       "    }\n",
       "\n",
       "    .dataframe thead th {\n",
       "        text-align: right;\n",
       "    }\n",
       "</style>\n",
       "<table border=\"1\" class=\"dataframe\">\n",
       "  <thead>\n",
       "    <tr style=\"text-align: right;\">\n",
       "      <th></th>\n",
       "      <th>project</th>\n",
       "      <th>version</th>\n",
       "      <th>date</th>\n",
       "      <th>installer</th>\n",
       "      <th>type</th>\n",
       "      <th>count</th>\n",
       "    </tr>\n",
       "  </thead>\n",
       "  <tbody>\n",
       "    <tr>\n",
       "      <th>0</th>\n",
       "      <td>kedro</td>\n",
       "      <td>0.14.0</td>\n",
       "      <td>19990</td>\n",
       "      <td></td>\n",
       "      <td>bdist_wheel</td>\n",
       "      <td>1</td>\n",
       "    </tr>\n",
       "    <tr>\n",
       "      <th>1</th>\n",
       "      <td>kedro</td>\n",
       "      <td>0.14.1</td>\n",
       "      <td>19990</td>\n",
       "      <td>pip</td>\n",
       "      <td>bdist_wheel</td>\n",
       "      <td>1</td>\n",
       "    </tr>\n",
       "    <tr>\n",
       "      <th>2</th>\n",
       "      <td>kedro</td>\n",
       "      <td>0.14.2</td>\n",
       "      <td>19990</td>\n",
       "      <td></td>\n",
       "      <td>sdist</td>\n",
       "      <td>1</td>\n",
       "    </tr>\n",
       "    <tr>\n",
       "      <th>3</th>\n",
       "      <td>kedro</td>\n",
       "      <td>0.14.3</td>\n",
       "      <td>19990</td>\n",
       "      <td></td>\n",
       "      <td>bdist_wheel</td>\n",
       "      <td>1</td>\n",
       "    </tr>\n",
       "    <tr>\n",
       "      <th>4</th>\n",
       "      <td>kedro</td>\n",
       "      <td>0.15.0</td>\n",
       "      <td>19990</td>\n",
       "      <td></td>\n",
       "      <td>bdist_wheel</td>\n",
       "      <td>1</td>\n",
       "    </tr>\n",
       "    <tr>\n",
       "      <th>...</th>\n",
       "      <td>...</td>\n",
       "      <td>...</td>\n",
       "      <td>...</td>\n",
       "      <td>...</td>\n",
       "      <td>...</td>\n",
       "      <td>...</td>\n",
       "    </tr>\n",
       "    <tr>\n",
       "      <th>584859</th>\n",
       "      <td>kedroio</td>\n",
       "      <td>0.1.3</td>\n",
       "      <td>19969</td>\n",
       "      <td>requests</td>\n",
       "      <td>bdist_wheel</td>\n",
       "      <td>27</td>\n",
       "    </tr>\n",
       "    <tr>\n",
       "      <th>584860</th>\n",
       "      <td>kedroio</td>\n",
       "      <td>0.1.3</td>\n",
       "      <td>19970</td>\n",
       "      <td>Browser</td>\n",
       "      <td>bdist_wheel</td>\n",
       "      <td>2</td>\n",
       "    </tr>\n",
       "    <tr>\n",
       "      <th>584861</th>\n",
       "      <td>kedroio</td>\n",
       "      <td>0.1.3</td>\n",
       "      <td>19970</td>\n",
       "      <td>poetry</td>\n",
       "      <td>bdist_wheel</td>\n",
       "      <td>23</td>\n",
       "    </tr>\n",
       "    <tr>\n",
       "      <th>584862</th>\n",
       "      <td>kedroio</td>\n",
       "      <td>0.1.3</td>\n",
       "      <td>19970</td>\n",
       "      <td>requests</td>\n",
       "      <td>bdist_wheel</td>\n",
       "      <td>28</td>\n",
       "    </tr>\n",
       "    <tr>\n",
       "      <th>584863</th>\n",
       "      <td>kedroio</td>\n",
       "      <td>0.1.3</td>\n",
       "      <td>19971</td>\n",
       "      <td>poetry</td>\n",
       "      <td>bdist_wheel</td>\n",
       "      <td>1</td>\n",
       "    </tr>\n",
       "  </tbody>\n",
       "</table>\n",
       "<p>584864 rows × 6 columns</p>\n",
       "</div>"
      ],
      "text/plain": [
       "\n",
       "        project version   date installer         type  count\n",
       "\u001b[1;36m0\u001b[0m         kedro  \u001b[1;36m0.14\u001b[0m.\u001b[1;36m0\u001b[0m  \u001b[1;36m19990\u001b[0m            bdist_wheel      \u001b[1;36m1\u001b[0m\n",
       "\u001b[1;36m1\u001b[0m         kedro  \u001b[1;36m0.14\u001b[0m.\u001b[1;36m1\u001b[0m  \u001b[1;36m19990\u001b[0m       pip  bdist_wheel      \u001b[1;36m1\u001b[0m\n",
       "\u001b[1;36m2\u001b[0m         kedro  \u001b[1;36m0.14\u001b[0m.\u001b[1;36m2\u001b[0m  \u001b[1;36m19990\u001b[0m                  sdist      \u001b[1;36m1\u001b[0m\n",
       "\u001b[1;36m3\u001b[0m         kedro  \u001b[1;36m0.14\u001b[0m.\u001b[1;36m3\u001b[0m  \u001b[1;36m19990\u001b[0m            bdist_wheel      \u001b[1;36m1\u001b[0m\n",
       "\u001b[1;36m4\u001b[0m         kedro  \u001b[1;36m0.15\u001b[0m.\u001b[1;36m0\u001b[0m  \u001b[1;36m19990\u001b[0m            bdist_wheel      \u001b[1;36m1\u001b[0m\n",
       "\u001b[33m...\u001b[0m         \u001b[33m...\u001b[0m     \u001b[33m...\u001b[0m    \u001b[33m...\u001b[0m       \u001b[33m...\u001b[0m          \u001b[33m...\u001b[0m    \u001b[33m...\u001b[0m\n",
       "\u001b[1;36m584859\u001b[0m  kedroio   \u001b[1;36m0.1\u001b[0m.\u001b[1;36m3\u001b[0m  \u001b[1;36m19969\u001b[0m  requests  bdist_wheel     \u001b[1;36m27\u001b[0m\n",
       "\u001b[1;36m584860\u001b[0m  kedroio   \u001b[1;36m0.1\u001b[0m.\u001b[1;36m3\u001b[0m  \u001b[1;36m19970\u001b[0m   Browser  bdist_wheel      \u001b[1;36m2\u001b[0m\n",
       "\u001b[1;36m584861\u001b[0m  kedroio   \u001b[1;36m0.1\u001b[0m.\u001b[1;36m3\u001b[0m  \u001b[1;36m19970\u001b[0m    poetry  bdist_wheel     \u001b[1;36m23\u001b[0m\n",
       "\u001b[1;36m584862\u001b[0m  kedroio   \u001b[1;36m0.1\u001b[0m.\u001b[1;36m3\u001b[0m  \u001b[1;36m19970\u001b[0m  requests  bdist_wheel     \u001b[1;36m28\u001b[0m\n",
       "\u001b[1;36m584863\u001b[0m  kedroio   \u001b[1;36m0.1\u001b[0m.\u001b[1;36m3\u001b[0m  \u001b[1;36m19971\u001b[0m    poetry  bdist_wheel      \u001b[1;36m1\u001b[0m\n",
       "\n",
       "\u001b[1m[\u001b[0m\u001b[1;36m584864\u001b[0m rows x \u001b[1;36m6\u001b[0m columns\u001b[1m]\u001b[0m"
      ]
     },
     "execution_count": 3,
     "metadata": {},
     "output_type": "execute_result"
    }
   ],
   "source": [
    "pandas_df"
   ]
  },
  {
   "cell_type": "code",
   "execution_count": 3,
   "id": "661d5198-8b6d-4fa4-b7aa-8678a3be722e",
   "metadata": {},
   "outputs": [
    {
     "data": {
      "text/html": [
       "<pre style=\"white-space:pre;overflow-x:auto;line-height:normal;font-family:Menlo,'DejaVu Sans Mono',consolas,'Courier New',monospace\"><span style=\"color: #800000; text-decoration-color: #800000\">╭─────────────────────────────── </span><span style=\"color: #800000; text-decoration-color: #800000; font-weight: bold\">Traceback </span><span style=\"color: #bf7f7f; text-decoration-color: #bf7f7f; font-weight: bold\">(most recent call last)</span><span style=\"color: #800000; text-decoration-color: #800000\"> ────────────────────────────────╮</span>\n",
       "<span style=\"color: #800000; text-decoration-color: #800000\">│</span> in <span style=\"color: #00ff00; text-decoration-color: #00ff00\">&lt;module&gt;</span>:<span style=\"color: #0000ff; text-decoration-color: #0000ff\">1</span>                                                                                    <span style=\"color: #800000; text-decoration-color: #800000\">│</span>\n",
       "<span style=\"color: #800000; text-decoration-color: #800000\">│</span>                                                                                                  <span style=\"color: #800000; text-decoration-color: #800000\">│</span>\n",
       "<span style=\"color: #800000; text-decoration-color: #800000\">│</span> <span style=\"color: #800000; text-decoration-color: #800000\">❱ </span>1 tables = client.query(<span style=\"color: #808000; text-decoration-color: #808000\">\"SHOW TABLES IN pypi\"</span>)                                                 <span style=\"color: #800000; text-decoration-color: #800000\">│</span>\n",
       "<span style=\"color: #800000; text-decoration-color: #800000\">│</span>   <span style=\"color: #7f7f7f; text-decoration-color: #7f7f7f\">2 </span>                                                                                             <span style=\"color: #800000; text-decoration-color: #800000\">│</span>\n",
       "<span style=\"color: #800000; text-decoration-color: #800000\">│</span>   <span style=\"color: #7f7f7f; text-decoration-color: #7f7f7f\">3 # Print the list of tables</span>                                                                   <span style=\"color: #800000; text-decoration-color: #800000\">│</span>\n",
       "<span style=\"color: #800000; text-decoration-color: #800000\">│</span>   <span style=\"color: #7f7f7f; text-decoration-color: #7f7f7f\">4 </span><span style=\"color: #0000ff; text-decoration-color: #0000ff\">for</span> table <span style=\"color: #ff00ff; text-decoration-color: #ff00ff\">in</span> tables.result_rows:                                                             <span style=\"color: #800000; text-decoration-color: #800000\">│</span>\n",
       "<span style=\"color: #800000; text-decoration-color: #800000\">╰──────────────────────────────────────────────────────────────────────────────────────────────────╯</span>\n",
       "<span style=\"color: #ff0000; text-decoration-color: #ff0000; font-weight: bold\">NameError: </span>name <span style=\"color: #008000; text-decoration-color: #008000\">'client'</span> is not defined\n",
       "</pre>\n"
      ],
      "text/plain": [
       "\u001b[31m╭─\u001b[0m\u001b[31m──────────────────────────────\u001b[0m\u001b[31m \u001b[0m\u001b[1;31mTraceback \u001b[0m\u001b[1;2;31m(most recent call last)\u001b[0m\u001b[31m \u001b[0m\u001b[31m───────────────────────────────\u001b[0m\u001b[31m─╮\u001b[0m\n",
       "\u001b[31m│\u001b[0m in \u001b[92m<module>\u001b[0m:\u001b[94m1\u001b[0m                                                                                    \u001b[31m│\u001b[0m\n",
       "\u001b[31m│\u001b[0m                                                                                                  \u001b[31m│\u001b[0m\n",
       "\u001b[31m│\u001b[0m \u001b[31m❱ \u001b[0m1 tables = client.query(\u001b[33m\"\u001b[0m\u001b[33mSHOW TABLES IN pypi\u001b[0m\u001b[33m\"\u001b[0m)                                                 \u001b[31m│\u001b[0m\n",
       "\u001b[31m│\u001b[0m   \u001b[2m2 \u001b[0m                                                                                             \u001b[31m│\u001b[0m\n",
       "\u001b[31m│\u001b[0m   \u001b[2m3 \u001b[0m\u001b[2m# Print the list of tables\u001b[0m                                                                   \u001b[31m│\u001b[0m\n",
       "\u001b[31m│\u001b[0m   \u001b[2m4 \u001b[0m\u001b[94mfor\u001b[0m table \u001b[95min\u001b[0m tables.result_rows:                                                             \u001b[31m│\u001b[0m\n",
       "\u001b[31m╰──────────────────────────────────────────────────────────────────────────────────────────────────╯\u001b[0m\n",
       "\u001b[1;91mNameError: \u001b[0mname \u001b[32m'client'\u001b[0m is not defined\n"
      ]
     },
     "metadata": {},
     "output_type": "display_data"
    }
   ],
   "source": [
    "tables = client.query(\"SHOW TABLES IN pypi\")\n",
    "\n",
    "# Print the list of tables\n",
    "for table in tables.result_rows:\n",
    "    print(table)"
   ]
  },
  {
   "cell_type": "code",
   "execution_count": null,
   "id": "9f3989da-507a-4bb9-9a1d-3a71ea10b7f8",
   "metadata": {},
   "outputs": [],
   "source": []
  },
  {
   "cell_type": "code",
   "execution_count": 8,
   "id": "d5b85761-e1f8-429a-b28f-32776b73593c",
   "metadata": {},
   "outputs": [
    {
     "name": "stdout",
     "output_type": "stream",
     "text": [
      "('countries',)\n",
      "('countries_dict',)\n",
      "('last_updated_dict',)\n",
      "('projects',)\n",
      "('pypi',)\n",
      "('pypi_downloads',)\n",
      "('pypi_downloads_by_version',)\n",
      "('pypi_downloads_by_version_mv',)\n",
      "('pypi_downloads_max_min',)\n",
      "('pypi_downloads_max_min_mv',)\n",
      "('pypi_downloads_mv',)\n",
      "('pypi_downloads_per_day',)\n",
      "('pypi_downloads_per_day_by_version',)\n",
      "('pypi_downloads_per_day_by_version_by_country',)\n",
      "('pypi_downloads_per_day_by_version_by_country_mv',)\n",
      "('pypi_downloads_per_day_by_version_by_file_type',)\n",
      "('pypi_downloads_per_day_by_version_by_file_type_mv',)\n",
      "('pypi_downloads_per_day_by_version_by_installer_by_type',)\n",
      "('pypi_downloads_per_day_by_version_by_installer_by_type_by_country',)\n",
      "('pypi_downloads_per_day_by_version_by_installer_by_type_by_country_mv',)\n",
      "('pypi_downloads_per_day_by_version_by_installer_by_type_mv',)\n",
      "('pypi_downloads_per_day_by_version_by_python',)\n",
      "('pypi_downloads_per_day_by_version_by_python_by_country',)\n",
      "('pypi_downloads_per_day_by_version_by_python_by_country_mv',)\n",
      "('pypi_downloads_per_day_by_version_by_python_mv',)\n",
      "('pypi_downloads_per_day_by_version_by_system',)\n",
      "('pypi_downloads_per_day_by_version_by_system_by_country',)\n",
      "('pypi_downloads_per_day_by_version_by_system_by_country_mv',)\n",
      "('pypi_downloads_per_day_by_version_by_system_mv',)\n",
      "('pypi_downloads_per_day_by_version_mv',)\n",
      "('pypi_downloads_per_day_mv',)\n",
      "('pypi_downloads_per_month',)\n",
      "('pypi_downloads_per_month_mv',)\n"
     ]
    }
   ],
   "source": [
    "import clickhouse_connect\n",
    "\n",
    "# Create a ClickHouse client\n",
    "client = clickhouse_connect.get_client(\n",
    "    host=\"clickpy-clickhouse.clickhouse.com\",  # ClickPy host\n",
    "    username=\"play\",                           # Public user\n",
    "    port=443,\n",
    "    database=\"pypi\",                           # Targeting the 'pypi' database\n",
    "    secure=True\n",
    ")\n",
    "\n",
    "\n",
    "tables = client.query(\"SHOW TABLES IN pypi\")\n",
    "\n",
    "# Print the list of tables\n",
    "for table in tables.result_rows:\n",
    "    print(table)"
   ]
  },
  {
   "cell_type": "code",
   "execution_count": 9,
   "id": "d87170f8-e878-46c0-9af5-e3ae2a0d8f7e",
   "metadata": {},
   "outputs": [
    {
     "name": "stdout",
     "output_type": "stream",
     "text": [
      "('date', 'Date', '', '', '', '', '')\n",
      "('country_code', 'LowCardinality(String)', '', '', '', '', '')\n",
      "('project', 'String', '', '', '', '', '')\n",
      "('type', 'LowCardinality(String)', '', '', '', '', '')\n",
      "('installer', 'LowCardinality(String)', '', '', '', '', '')\n",
      "('python_minor', 'LowCardinality(String)', '', '', '', '', '')\n",
      "('system', 'LowCardinality(String)', '', '', '', '', '')\n",
      "('version', 'String', '', '', '', '', '')\n"
     ]
    }
   ],
   "source": [
    "# Query to describe the 'pypi' table\n",
    "table_description = client.query(\"DESCRIBE TABLE pypi.pypi\")\n",
    "\n",
    "# Print the column names and their types\n",
    "for row in table_description.result_rows:\n",
    "    print(row)"
   ]
  },
  {
   "cell_type": "code",
   "execution_count": 2,
   "id": "5d9279b3-8733-4af6-b6ec-44991e602a10",
   "metadata": {},
   "outputs": [
    {
     "data": {
      "text/html": [
       "<pre style=\"white-space:pre;overflow-x:auto;line-height:normal;font-family:Menlo,'DejaVu Sans Mono',consolas,'Courier New',monospace\"><span style=\"color: #7fbfbf; text-decoration-color: #7fbfbf\">[09/26/24 15:38:09] </span><span style=\"color: #808000; text-decoration-color: #808000\">WARNING </span> <span style=\"color: #800080; text-decoration-color: #800080\">/Users/Dmitry_Sorokin/Git/Projects/.venv/lib/python3.10/site-packages/</span> <a href=\"file:///Users/Dmitry_Sorokin/.pyenv/versions/3.10.13/lib/python3.10/warnings.py\" target=\"_blank\"><span style=\"color: #7f7f7f; text-decoration-color: #7f7f7f\">warnings.py</span></a><span style=\"color: #7f7f7f; text-decoration-color: #7f7f7f\">:</span><a href=\"file:///Users/Dmitry_Sorokin/.pyenv/versions/3.10.13/lib/python3.10/warnings.py#109\" target=\"_blank\"><span style=\"color: #7f7f7f; text-decoration-color: #7f7f7f\">109</span></a>\n",
       "<span style=\"color: #7fbfbf; text-decoration-color: #7fbfbf\">                    </span>         <span style=\"color: #800080; text-decoration-color: #800080\">snowflake/sqlalchemy/</span><span style=\"color: #ff00ff; text-decoration-color: #ff00ff\">base.py</span>:<span style=\"color: #008080; text-decoration-color: #008080; font-weight: bold\">1068</span>: SAWarning: The GenericFunction      <span style=\"color: #7f7f7f; text-decoration-color: #7f7f7f\">               </span>\n",
       "<span style=\"color: #7fbfbf; text-decoration-color: #7fbfbf\">                    </span>         <span style=\"color: #008000; text-decoration-color: #008000\">'flatten'</span> is already registered and is going to be overridden.         <span style=\"color: #7f7f7f; text-decoration-color: #7f7f7f\">               </span>\n",
       "<span style=\"color: #7fbfbf; text-decoration-color: #7fbfbf\">                    </span>           <span style=\"color: #800080; text-decoration-color: #800080; font-weight: bold\">functions.register_function</span><span style=\"font-weight: bold\">(</span><span style=\"color: #008000; text-decoration-color: #008000\">\"flatten\"</span>, flatten<span style=\"font-weight: bold\">)</span>                      <span style=\"color: #7f7f7f; text-decoration-color: #7f7f7f\">               </span>\n",
       "<span style=\"color: #7fbfbf; text-decoration-color: #7fbfbf\">                    </span>                                                                                <span style=\"color: #7f7f7f; text-decoration-color: #7f7f7f\">               </span>\n",
       "</pre>\n"
      ],
      "text/plain": [
       "\u001b[2;36m[09/26/24 15:38:09]\u001b[0m\u001b[2;36m \u001b[0m\u001b[33mWARNING \u001b[0m \u001b[35m/Users/Dmitry_Sorokin/Git/Projects/.venv/lib/python3.10/site-packages/\u001b[0m \u001b]8;id=697263;file:///Users/Dmitry_Sorokin/.pyenv/versions/3.10.13/lib/python3.10/warnings.py\u001b\\\u001b[2mwarnings.py\u001b[0m\u001b]8;;\u001b\\\u001b[2m:\u001b[0m\u001b]8;id=523010;file:///Users/Dmitry_Sorokin/.pyenv/versions/3.10.13/lib/python3.10/warnings.py#109\u001b\\\u001b[2m109\u001b[0m\u001b]8;;\u001b\\\n",
       "\u001b[2;36m                    \u001b[0m         \u001b[35msnowflake/sqlalchemy/\u001b[0m\u001b[95mbase.py\u001b[0m:\u001b[1;36m1068\u001b[0m: SAWarning: The GenericFunction      \u001b[2m               \u001b[0m\n",
       "\u001b[2;36m                    \u001b[0m         \u001b[32m'flatten'\u001b[0m is already registered and is going to be overridden.         \u001b[2m               \u001b[0m\n",
       "\u001b[2;36m                    \u001b[0m           \u001b[1;35mfunctions.register_function\u001b[0m\u001b[1m(\u001b[0m\u001b[32m\"flatten\"\u001b[0m, flatten\u001b[1m)\u001b[0m                      \u001b[2m               \u001b[0m\n",
       "\u001b[2;36m                    \u001b[0m                                                                                \u001b[2m               \u001b[0m\n"
      ]
     },
     "metadata": {},
     "output_type": "display_data"
    }
   ],
   "source": [
    "from snowflake.sqlalchemy import URL\n",
    "from sqlalchemy import create_engine\n",
    "import pandas as pd"
   ]
  },
  {
   "cell_type": "code",
   "execution_count": null,
   "id": "5b709250-6587-4888-aece-8022e5d120c6",
   "metadata": {},
   "outputs": [],
   "source": [
    "sf_user='MIROSLAV_LICEK@MCKINSEY.COM'\n",
    "sf_auth='externalbrowser'\n",
    "# sf_password\n",
    "sf_account = 'mckinsey-ct_aws_us_east_1'\n",
    "sf_role = 'CT_SNOWFLAKE_ADMIN'\n",
    "sf_warehouse = 'COMPUTE_WH'\n",
    "sf_database = 'UTIL_DB'"
   ]
  },
  {
   "cell_type": "code",
   "execution_count": null,
   "id": "9dffa313-a0cc-4c16-95ad-af0888eba975",
   "metadata": {},
   "outputs": [],
   "source": [
    "url = URL(\n",
    "    user=sf_user,\n",
    "    authenticator=sf_auth,\n",
    "    # password=sf_password,\n",
    "    account=sf_account,\n",
    "    role=sf_role,\n",
    "    warehouse=sf_warehouse,\n",
    "    database=sf_database\n",
    ")\n",
    "engine = create_engine(url)\n",
    "connection = engine.connect()\n",
    "print(\"Source connection established\")"
   ]
  },
  {
   "cell_type": "code",
   "execution_count": null,
   "id": "7de9ef71-b504-4598-b4eb-1387a482da00",
   "metadata": {},
   "outputs": [],
   "source": [
    "query = \"SELECT CURRENT_TIME()\"\n",
    "query_result = pd.read_sql_query(query, connection)\n",
    "print(query_result)"
   ]
  },
  {
   "cell_type": "code",
   "execution_count": null,
   "id": "c4b7d186-20db-4fa3-b1a9-326cf5327da9",
   "metadata": {},
   "outputs": [],
   "source": [
    "connection.close()"
   ]
  }
 ],
 "metadata": {
  "kernelspec": {
   "display_name": "Kedro (kedro_pypi_to_snowflake)",
   "language": "python",
   "name": "kedro_kedro_pypi_to_snowflake"
  },
  "language_info": {
   "codemirror_mode": {
    "name": "ipython",
    "version": 3
   },
   "file_extension": ".py",
   "mimetype": "text/x-python",
   "name": "python",
   "nbconvert_exporter": "python",
   "pygments_lexer": "ipython3",
   "version": "3.10.13"
  }
 },
 "nbformat": 4,
 "nbformat_minor": 5
}
